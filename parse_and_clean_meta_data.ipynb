{
  "nbformat": 4,
  "nbformat_minor": 0,
  "metadata": {
    "colab": {
      "name": "parse_and_clean_meta_data.ipynb",
      "provenance": [],
      "collapsed_sections": []
    },
    "kernelspec": {
      "name": "python3",
      "display_name": "Python 3"
    }
  },
  "cells": [
    {
      "cell_type": "code",
      "metadata": {
        "id": "f5NDXrN2CtH7"
      },
      "source": [
        "import os\n",
        "import json\n",
        "import gzip\n",
        "import pandas as pd\n",
        "from urllib.request import urlopen"
      ],
      "execution_count": 1,
      "outputs": []
    },
    {
      "cell_type": "code",
      "metadata": {
        "id": "feWoOrmt4Tja",
        "colab": {
          "base_uri": "https://localhost:8080/"
        },
        "outputId": "d48cf97b-1e21-49a4-cb6b-7a3e60b9a852"
      },
      "source": [
        "!wget http://deepyeti.ucsd.edu/jianmo/amazon/categoryFilesSmall/Software_5.json.gz"
      ],
      "execution_count": 2,
      "outputs": [
        {
          "output_type": "stream",
          "text": [
            "--2021-07-14 08:01:16--  http://deepyeti.ucsd.edu/jianmo/amazon/categoryFilesSmall/Software_5.json.gz\n",
            "Resolving deepyeti.ucsd.edu (deepyeti.ucsd.edu)... 169.228.63.50\n",
            "Connecting to deepyeti.ucsd.edu (deepyeti.ucsd.edu)|169.228.63.50|:80... connected.\n",
            "HTTP request sent, awaiting response... 200 OK\n",
            "Length: 5339013 (5.1M) [application/octet-stream]\n",
            "Saving to: ‘Software_5.json.gz’\n",
            "\n",
            "Software_5.json.gz  100%[===================>]   5.09M  9.66MB/s    in 0.5s    \n",
            "\n",
            "2021-07-14 08:01:17 (9.66 MB/s) - ‘Software_5.json.gz’ saved [5339013/5339013]\n",
            "\n"
          ],
          "name": "stdout"
        }
      ]
    },
    {
      "cell_type": "markdown",
      "metadata": {
        "id": "FGPAkwEoB3Ar"
      },
      "source": [
        "###Alternatively, we can use any other dataset\n",
        "\n"
      ]
    },
    {
      "cell_type": "code",
      "metadata": {
        "id": "7igYuRaV4bF7"
      },
      "source": [
        "### load the meta data\n",
        "\n",
        "data = []\n",
        "with gzip.open('Software_5.json.gz') as f:\n",
        "    for l in f:\n",
        "        data.append(json.loads(l.strip()))\n",
        "    \n"
      ],
      "execution_count": 3,
      "outputs": []
    }
  ]
}